{
 "cells": [
  {
   "cell_type": "code",
   "execution_count": null,
   "id": "3e35f2b6",
   "metadata": {
    "vscode": {
     "languageId": "plaintext"
    }
   },
   "outputs": [],
   "source": [
    "import nvenn2\n",
    "\n",
    "from IPython.display import SVG, display\n",
    "n = nvenn2.diagram(\"Set1 Set2 Set3\\na a b\\nb q d\\nc  e\", 0)\n",
    "n.simulate()\n",
    "display(SVG(n.to_svg()))"
   ]
  }
 ],
 "metadata": {
  "language_info": {
   "name": "python"
  }
 },
 "nbformat": 4,
 "nbformat_minor": 5
}
